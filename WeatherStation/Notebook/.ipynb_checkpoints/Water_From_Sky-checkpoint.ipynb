{
 "cells": [
  {
   "cell_type": "code",
   "execution_count": 1,
   "id": "e3bf1217-18c2-46d7-ba86-1afa9b0a5f3d",
   "metadata": {},
   "outputs": [
    {
     "name": "stdout",
     "output_type": "stream",
     "text": [
      "Defaulting to user installation because normal site-packages is not writeable\n",
      "Requirement already satisfied: scikit-learn in c:\\users\\abhin\\appdata\\roaming\\python\\python312\\site-packages (1.4.2)\n",
      "Requirement already satisfied: numpy>=1.19.5 in c:\\users\\abhin\\appdata\\roaming\\python\\python312\\site-packages (from scikit-learn) (1.26.4)\n",
      "Requirement already satisfied: scipy>=1.6.0 in c:\\users\\abhin\\appdata\\roaming\\python\\python312\\site-packages (from scikit-learn) (1.13.0)\n",
      "Requirement already satisfied: joblib>=1.2.0 in c:\\users\\abhin\\appdata\\roaming\\python\\python312\\site-packages (from scikit-learn) (1.4.0)\n",
      "Requirement already satisfied: threadpoolctl>=2.0.0 in c:\\users\\abhin\\appdata\\roaming\\python\\python312\\site-packages (from scikit-learn) (3.4.0)\n"
     ]
    }
   ],
   "source": [
    "!pip install scikit-learn\n"
   ]
  },
  {
   "cell_type": "code",
   "execution_count": 2,
   "id": "fd977573-52d7-40b2-b092-a325fea36eb4",
   "metadata": {},
   "outputs": [
    {
     "name": "stdout",
     "output_type": "stream",
     "text": [
      "Probability of 'No': 70%\n",
      "Probability of 'Yes': 30%\n"
     ]
    }
   ],
   "source": [
    "import numpy as np\n",
    "import pandas as pd\n",
    "from sklearn.model_selection import train_test_split\n",
    "from sklearn.preprocessing import LabelEncoder\n",
    "from sklearn.linear_model import LogisticRegression\n",
    "from sklearn.preprocessing import MinMaxScaler\n",
    "\n",
    "def min_max_scaling(value, old_min, old_max, new_min, new_max):\n",
    "    return ((value - old_min) / (old_max - old_min)) * (new_max - new_min) + new_min\n",
    "\n",
    "old_min_pressure = 1000\n",
    "old_max_pressure = 1100\n",
    "new_min_pressure = 750\n",
    "new_max_pressure = 800\n",
    "\n",
    "\n",
    "file_path = \"Rain_dataset.csv\"\n",
    "\n",
    "\n",
    "df = pd.read_csv(file_path)\n",
    "df = df.dropna(how='any')\n",
    "\n",
    "df['Pressure'] = df['Pressure'].apply(lambda x: min_max_scaling(x, old_min_pressure, old_max_pressure, new_min_pressure, new_max_pressure))\n",
    "\n",
    "X = df[['WindSpeed', 'Humidity', 'Pressure', 'Temperature']]\n",
    "X.columns = ['WindSpeed', 'Humidity', 'Pressure', 'Temperature']\n",
    "\n",
    "y = df['RainToday']\n",
    "\n",
    "encoder = LabelEncoder()\n",
    "\n",
    "\n",
    "y = encoder.fit_transform(y)\n",
    "X_train, X_test, y_train, y_test = train_test_split(X, y, test_size=0.2, random_state=42)\n",
    "\n",
    "\n",
    "model = LogisticRegression(max_iter=10000)\n",
    "model.fit(X_train, y_train)\n",
    "\n",
    "\n",
    "input_values = [11,78,1005,31]\n",
    "\n",
    "\n",
    "columns = ['WindSpeed', 'Humidity', 'Pressure', 'Temperature']\n",
    "\n",
    "\n",
    "data = pd.DataFrame([input_values], columns=columns)\n",
    "probability = model.predict_proba(data)\n",
    "pri=model.predict(data)\n",
    "\n",
    "probability_no = 100-round(probability[0][1]*100)\n",
    "probability_yes = round(probability[0][1]*100)\n",
    "\n",
    "\n",
    "print(f\"Probability of 'No': {probability_no}%\")\n",
    "print(f\"Probability of 'Yes': {round(probability_yes)}%\")"
   ]
  },
  {
   "cell_type": "code",
   "execution_count": 3,
   "id": "6733a02c-c9d0-4a1d-b95a-4ca59a093761",
   "metadata": {},
   "outputs": [
    {
     "name": "stdout",
     "output_type": "stream",
     "text": [
      "Probability of 'No': 70%\n",
      "Probability of 'Yes': 30%\n"
     ]
    }
   ],
   "source": [
    "\n",
    "\n",
    "input_values = [11,78,1005,31]\n",
    "\n",
    "\n",
    "columns = ['WindSpeed', 'Humidity', 'Pressure', 'Temperature']\n",
    "\n",
    "\n",
    "data = pd.DataFrame([input_values], columns=columns)\n",
    "probability = model.predict_proba(data)\n",
    "pri=model.predict(data)\n",
    "\n",
    "probability_no = 100-round(probability[0][1]*100)\n",
    "probability_yes = round(probability[0][1]*100)\n",
    "\n",
    "\n",
    "print(f\"Probability of 'No': {probability_no}%\")\n",
    "print(f\"Probability of 'Yes': {round(probability_yes)}%\")"
   ]
  },
  {
   "cell_type": "code",
   "execution_count": 4,
   "id": "18c6b955-85ef-46e3-b256-5cf4a5a619f4",
   "metadata": {},
   "outputs": [
    {
     "data": {
      "text/plain": [
       "['./../TheModel/Rain_Prediction.joblib']"
      ]
     },
     "execution_count": 4,
     "metadata": {},
     "output_type": "execute_result"
    }
   ],
   "source": [
    "from joblib import dump\n",
    "dump(model,'./../TheModel/Rain_Prediction.joblib')"
   ]
  },
  {
   "cell_type": "code",
   "execution_count": null,
   "id": "10901408-9c22-4794-9c7f-883368adf3d2",
   "metadata": {},
   "outputs": [],
   "source": []
  }
 ],
 "metadata": {
  "kernelspec": {
   "display_name": "Python 3 (ipykernel)",
   "language": "python",
   "name": "python3"
  },
  "language_info": {
   "codemirror_mode": {
    "name": "ipython",
    "version": 3
   },
   "file_extension": ".py",
   "mimetype": "text/x-python",
   "name": "python",
   "nbconvert_exporter": "python",
   "pygments_lexer": "ipython3",
   "version": "3.12.3"
  }
 },
 "nbformat": 4,
 "nbformat_minor": 5
}
