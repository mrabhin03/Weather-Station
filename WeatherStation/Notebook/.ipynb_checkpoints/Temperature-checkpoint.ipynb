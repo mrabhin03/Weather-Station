{
 "cells": [
  {
   "cell_type": "code",
   "execution_count": 5,
   "id": "3d9ed3eb-5df6-49f8-8e26-c4445cd37f5f",
   "metadata": {},
   "outputs": [
    {
     "name": "stdout",
     "output_type": "stream",
     "text": [
      "Predicted temperature for new data: [47.98974824]\n"
     ]
    }
   ],
   "source": [
    "import pandas as pd\n",
    "import numpy as np\n",
    "from sklearn.model_selection import train_test_split\n",
    "from sklearn.linear_model import LinearRegression\n",
    "from sklearn.metrics import mean_squared_error\n",
    "\n",
    "sequence_length = 6\n",
    "df = pd.read_csv('weather_rain.csv')\n",
    "df.dropna(inplace=True)\n",
    "def create_sequences(data, seq_length):\n",
    "    X, y = [], []\n",
    "    for i in range(len(data) - seq_length):\n",
    "        X.append(data[i:i+seq_length])\n",
    "        y.append(data[i+seq_length])\n",
    "    return np.array(X), np.array(y)\n",
    "\n",
    "def update_sequence(are):\n",
    "    global sequence_length\n",
    "    sequence_length=are\n",
    "\n",
    "update_sequence(3)\n",
    "data = df['Temp'].values\n",
    "X, y = create_sequences(data, sequence_length)\n",
    "X_train, X_test, y_train, y_test = train_test_split(X, y, test_size=0.2, random_state=42)\n",
    "model = LinearRegression()\n",
    "model.fit(X_train, y_train)\n",
    "y_pred = model.predict(X_test)\n",
    "mse = mean_squared_error(y_test, y_pred)\n",
    "new_data = np.array([[60, 48, 48, 50, 50,90]])\n",
    "predicted_temp = model.predict(new_data.reshape(1, sequence_length))\n",
    "print(\"Predicted temperature for new data:\", predicted_temp)\n"
   ]
  },
  {
   "cell_type": "code",
   "execution_count": 7,
   "id": "b74d3e1c-989b-49c5-a842-cc9ad701785f",
   "metadata": {},
   "outputs": [],
   "source": [
    "from joblib import dump"
   ]
  },
  {
   "cell_type": "code",
   "execution_count": 8,
   "id": "af5bb56d-8441-4d45-b5d7-b0379f3eca7e",
   "metadata": {},
   "outputs": [
    {
     "data": {
      "text/plain": [
       "['./../TheModel/Temperature_Model.joblib']"
      ]
     },
     "execution_count": 8,
     "metadata": {},
     "output_type": "execute_result"
    }
   ],
   "source": [
    "dump(model,'./../TheModel/Temperature_Model.joblib')"
   ]
  },
  {
   "cell_type": "code",
   "execution_count": null,
   "id": "3da41161-cb3f-4c11-a3fd-f4bdda82be5e",
   "metadata": {},
   "outputs": [],
   "source": []
  }
 ],
 "metadata": {
  "kernelspec": {
   "display_name": "Python 3 (ipykernel)",
   "language": "python",
   "name": "python3"
  },
  "language_info": {
   "codemirror_mode": {
    "name": "ipython",
    "version": 3
   },
   "file_extension": ".py",
   "mimetype": "text/x-python",
   "name": "python",
   "nbconvert_exporter": "python",
   "pygments_lexer": "ipython3",
   "version": "3.12.1"
  }
 },
 "nbformat": 4,
 "nbformat_minor": 5
}
